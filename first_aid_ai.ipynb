{
  "nbformat": 4,
  "nbformat_minor": 0,
  "metadata": {
    "colab": {
      "provenance": []
    },
    "kernelspec": {
      "name": "python3",
      "display_name": "Python 3"
    },
    "language_info": {
      "name": "python"
    }
  },
  "cells": [
    {
      "cell_type": "code",
      "execution_count": null,
      "metadata": {
        "colab": {
          "base_uri": "https://localhost:8080/",
          "height": 73
        },
        "id": "3RoWpQ7_SQBn",
        "outputId": "17962271-5418-4ca4-fbb6-ea84e5bb9b0e"
      },
      "outputs": [
        {
          "output_type": "display_data",
          "data": {
            "text/plain": [
              "<IPython.core.display.HTML object>"
            ],
            "text/html": [
              "\n",
              "     <input type=\"file\" id=\"files-8323f8d2-e180-40a3-825d-ef3ee411a338\" name=\"files[]\" multiple disabled\n",
              "        style=\"border:none\" />\n",
              "     <output id=\"result-8323f8d2-e180-40a3-825d-ef3ee411a338\">\n",
              "      Upload widget is only available when the cell has been executed in the\n",
              "      current browser session. Please rerun this cell to enable.\n",
              "      </output>\n",
              "      <script>// Copyright 2017 Google LLC\n",
              "//\n",
              "// Licensed under the Apache License, Version 2.0 (the \"License\");\n",
              "// you may not use this file except in compliance with the License.\n",
              "// You may obtain a copy of the License at\n",
              "//\n",
              "//      http://www.apache.org/licenses/LICENSE-2.0\n",
              "//\n",
              "// Unless required by applicable law or agreed to in writing, software\n",
              "// distributed under the License is distributed on an \"AS IS\" BASIS,\n",
              "// WITHOUT WARRANTIES OR CONDITIONS OF ANY KIND, either express or implied.\n",
              "// See the License for the specific language governing permissions and\n",
              "// limitations under the License.\n",
              "\n",
              "/**\n",
              " * @fileoverview Helpers for google.colab Python module.\n",
              " */\n",
              "(function(scope) {\n",
              "function span(text, styleAttributes = {}) {\n",
              "  const element = document.createElement('span');\n",
              "  element.textContent = text;\n",
              "  for (const key of Object.keys(styleAttributes)) {\n",
              "    element.style[key] = styleAttributes[key];\n",
              "  }\n",
              "  return element;\n",
              "}\n",
              "\n",
              "// Max number of bytes which will be uploaded at a time.\n",
              "const MAX_PAYLOAD_SIZE = 100 * 1024;\n",
              "\n",
              "function _uploadFiles(inputId, outputId) {\n",
              "  const steps = uploadFilesStep(inputId, outputId);\n",
              "  const outputElement = document.getElementById(outputId);\n",
              "  // Cache steps on the outputElement to make it available for the next call\n",
              "  // to uploadFilesContinue from Python.\n",
              "  outputElement.steps = steps;\n",
              "\n",
              "  return _uploadFilesContinue(outputId);\n",
              "}\n",
              "\n",
              "// This is roughly an async generator (not supported in the browser yet),\n",
              "// where there are multiple asynchronous steps and the Python side is going\n",
              "// to poll for completion of each step.\n",
              "// This uses a Promise to block the python side on completion of each step,\n",
              "// then passes the result of the previous step as the input to the next step.\n",
              "function _uploadFilesContinue(outputId) {\n",
              "  const outputElement = document.getElementById(outputId);\n",
              "  const steps = outputElement.steps;\n",
              "\n",
              "  const next = steps.next(outputElement.lastPromiseValue);\n",
              "  return Promise.resolve(next.value.promise).then((value) => {\n",
              "    // Cache the last promise value to make it available to the next\n",
              "    // step of the generator.\n",
              "    outputElement.lastPromiseValue = value;\n",
              "    return next.value.response;\n",
              "  });\n",
              "}\n",
              "\n",
              "/**\n",
              " * Generator function which is called between each async step of the upload\n",
              " * process.\n",
              " * @param {string} inputId Element ID of the input file picker element.\n",
              " * @param {string} outputId Element ID of the output display.\n",
              " * @return {!Iterable<!Object>} Iterable of next steps.\n",
              " */\n",
              "function* uploadFilesStep(inputId, outputId) {\n",
              "  const inputElement = document.getElementById(inputId);\n",
              "  inputElement.disabled = false;\n",
              "\n",
              "  const outputElement = document.getElementById(outputId);\n",
              "  outputElement.innerHTML = '';\n",
              "\n",
              "  const pickedPromise = new Promise((resolve) => {\n",
              "    inputElement.addEventListener('change', (e) => {\n",
              "      resolve(e.target.files);\n",
              "    });\n",
              "  });\n",
              "\n",
              "  const cancel = document.createElement('button');\n",
              "  inputElement.parentElement.appendChild(cancel);\n",
              "  cancel.textContent = 'Cancel upload';\n",
              "  const cancelPromise = new Promise((resolve) => {\n",
              "    cancel.onclick = () => {\n",
              "      resolve(null);\n",
              "    };\n",
              "  });\n",
              "\n",
              "  // Wait for the user to pick the files.\n",
              "  const files = yield {\n",
              "    promise: Promise.race([pickedPromise, cancelPromise]),\n",
              "    response: {\n",
              "      action: 'starting',\n",
              "    }\n",
              "  };\n",
              "\n",
              "  cancel.remove();\n",
              "\n",
              "  // Disable the input element since further picks are not allowed.\n",
              "  inputElement.disabled = true;\n",
              "\n",
              "  if (!files) {\n",
              "    return {\n",
              "      response: {\n",
              "        action: 'complete',\n",
              "      }\n",
              "    };\n",
              "  }\n",
              "\n",
              "  for (const file of files) {\n",
              "    const li = document.createElement('li');\n",
              "    li.append(span(file.name, {fontWeight: 'bold'}));\n",
              "    li.append(span(\n",
              "        `(${file.type || 'n/a'}) - ${file.size} bytes, ` +\n",
              "        `last modified: ${\n",
              "            file.lastModifiedDate ? file.lastModifiedDate.toLocaleDateString() :\n",
              "                                    'n/a'} - `));\n",
              "    const percent = span('0% done');\n",
              "    li.appendChild(percent);\n",
              "\n",
              "    outputElement.appendChild(li);\n",
              "\n",
              "    const fileDataPromise = new Promise((resolve) => {\n",
              "      const reader = new FileReader();\n",
              "      reader.onload = (e) => {\n",
              "        resolve(e.target.result);\n",
              "      };\n",
              "      reader.readAsArrayBuffer(file);\n",
              "    });\n",
              "    // Wait for the data to be ready.\n",
              "    let fileData = yield {\n",
              "      promise: fileDataPromise,\n",
              "      response: {\n",
              "        action: 'continue',\n",
              "      }\n",
              "    };\n",
              "\n",
              "    // Use a chunked sending to avoid message size limits. See b/62115660.\n",
              "    let position = 0;\n",
              "    do {\n",
              "      const length = Math.min(fileData.byteLength - position, MAX_PAYLOAD_SIZE);\n",
              "      const chunk = new Uint8Array(fileData, position, length);\n",
              "      position += length;\n",
              "\n",
              "      const base64 = btoa(String.fromCharCode.apply(null, chunk));\n",
              "      yield {\n",
              "        response: {\n",
              "          action: 'append',\n",
              "          file: file.name,\n",
              "          data: base64,\n",
              "        },\n",
              "      };\n",
              "\n",
              "      let percentDone = fileData.byteLength === 0 ?\n",
              "          100 :\n",
              "          Math.round((position / fileData.byteLength) * 100);\n",
              "      percent.textContent = `${percentDone}% done`;\n",
              "\n",
              "    } while (position < fileData.byteLength);\n",
              "  }\n",
              "\n",
              "  // All done.\n",
              "  yield {\n",
              "    response: {\n",
              "      action: 'complete',\n",
              "    }\n",
              "  };\n",
              "}\n",
              "\n",
              "scope.google = scope.google || {};\n",
              "scope.google.colab = scope.google.colab || {};\n",
              "scope.google.colab._files = {\n",
              "  _uploadFiles,\n",
              "  _uploadFilesContinue,\n",
              "};\n",
              "})(self);\n",
              "</script> "
            ]
          },
          "metadata": {}
        },
        {
          "output_type": "stream",
          "name": "stdout",
          "text": [
            "Saving intent_examples.csv to intent_examples.csv\n"
          ]
        }
      ],
      "source": [
        "from google.colab import files\n",
        "uploaded = files.upload()\n",
        "\n"
      ]
    },
    {
      "cell_type": "code",
      "source": [
        "import pandas as pd\n",
        "\n",
        "df = pd.read_csv(\"intent_examples.csv\")\n",
        "print(df.head())\n"
      ],
      "metadata": {
        "colab": {
          "base_uri": "https://localhost:8080/"
        },
        "id": "0KeDCIkueLFe",
        "outputId": "93de18d8-3a29-4db9-8dcb-e5471e10a64a"
      },
      "execution_count": null,
      "outputs": [
        {
          "output_type": "stream",
          "name": "stdout",
          "text": [
            "                                  text            label\n",
            "0           My friend is not breathing    not_breathing\n",
            "1  There's too much blood from his leg  severe_bleeding\n",
            "2      She's choking and can't breathe    choking_adult\n",
            "3                I burnt my hand badly             burn\n",
            "4      I have a small cut on my finger        minor_cut\n"
          ]
        }
      ]
    },
    {
      "cell_type": "code",
      "source": [
        "from sklearn.feature_extraction.text import TfidfVectorizer\n",
        "from sklearn.linear_model import LogisticRegression\n",
        "from sklearn.pipeline import make_pipeline\n",
        "\n",
        "# Split dataset\n",
        "X = df[\"text\"]\n",
        "y = df[\"label\"]\n",
        "\n",
        "# Build pipeline: TF-IDF + Logistic Regression\n",
        "model = make_pipeline(TfidfVectorizer(), LogisticRegression())\n",
        "\n",
        "# Train\n",
        "model.fit(X, y)\n",
        "\n",
        "# Test on a new example\n",
        "print(model.predict([\"He is bleeding a lot from his arm\"]))\n",
        "print(model.predict([\"My brother can't breathe, help\"]))\n",
        "print(model.predict([\"I have a small scratch\"]))\n"
      ],
      "metadata": {
        "colab": {
          "base_uri": "https://localhost:8080/"
        },
        "id": "i_08QGW4eUKN",
        "outputId": "b28a2587-80ef-4eb8-a77d-df58d7e11eb4"
      },
      "execution_count": null,
      "outputs": [
        {
          "output_type": "stream",
          "name": "stdout",
          "text": [
            "['severe_bleeding']\n",
            "['choking_adult']\n",
            "['minor_cut']\n"
          ]
        }
      ]
    },
    {
      "cell_type": "code",
      "source": [
        "from google.colab import files\n",
        "uploaded = files.upload()\n"
      ],
      "metadata": {
        "colab": {
          "base_uri": "https://localhost:8080/",
          "height": 73
        },
        "id": "snnW_9pbeeqL",
        "outputId": "cca5ba82-c476-4f8e-8439-f739757ed3f8"
      },
      "execution_count": null,
      "outputs": [
        {
          "output_type": "display_data",
          "data": {
            "text/plain": [
              "<IPython.core.display.HTML object>"
            ],
            "text/html": [
              "\n",
              "     <input type=\"file\" id=\"files-42ac7f77-e1eb-4b47-8178-375997c527e6\" name=\"files[]\" multiple disabled\n",
              "        style=\"border:none\" />\n",
              "     <output id=\"result-42ac7f77-e1eb-4b47-8178-375997c527e6\">\n",
              "      Upload widget is only available when the cell has been executed in the\n",
              "      current browser session. Please rerun this cell to enable.\n",
              "      </output>\n",
              "      <script>// Copyright 2017 Google LLC\n",
              "//\n",
              "// Licensed under the Apache License, Version 2.0 (the \"License\");\n",
              "// you may not use this file except in compliance with the License.\n",
              "// You may obtain a copy of the License at\n",
              "//\n",
              "//      http://www.apache.org/licenses/LICENSE-2.0\n",
              "//\n",
              "// Unless required by applicable law or agreed to in writing, software\n",
              "// distributed under the License is distributed on an \"AS IS\" BASIS,\n",
              "// WITHOUT WARRANTIES OR CONDITIONS OF ANY KIND, either express or implied.\n",
              "// See the License for the specific language governing permissions and\n",
              "// limitations under the License.\n",
              "\n",
              "/**\n",
              " * @fileoverview Helpers for google.colab Python module.\n",
              " */\n",
              "(function(scope) {\n",
              "function span(text, styleAttributes = {}) {\n",
              "  const element = document.createElement('span');\n",
              "  element.textContent = text;\n",
              "  for (const key of Object.keys(styleAttributes)) {\n",
              "    element.style[key] = styleAttributes[key];\n",
              "  }\n",
              "  return element;\n",
              "}\n",
              "\n",
              "// Max number of bytes which will be uploaded at a time.\n",
              "const MAX_PAYLOAD_SIZE = 100 * 1024;\n",
              "\n",
              "function _uploadFiles(inputId, outputId) {\n",
              "  const steps = uploadFilesStep(inputId, outputId);\n",
              "  const outputElement = document.getElementById(outputId);\n",
              "  // Cache steps on the outputElement to make it available for the next call\n",
              "  // to uploadFilesContinue from Python.\n",
              "  outputElement.steps = steps;\n",
              "\n",
              "  return _uploadFilesContinue(outputId);\n",
              "}\n",
              "\n",
              "// This is roughly an async generator (not supported in the browser yet),\n",
              "// where there are multiple asynchronous steps and the Python side is going\n",
              "// to poll for completion of each step.\n",
              "// This uses a Promise to block the python side on completion of each step,\n",
              "// then passes the result of the previous step as the input to the next step.\n",
              "function _uploadFilesContinue(outputId) {\n",
              "  const outputElement = document.getElementById(outputId);\n",
              "  const steps = outputElement.steps;\n",
              "\n",
              "  const next = steps.next(outputElement.lastPromiseValue);\n",
              "  return Promise.resolve(next.value.promise).then((value) => {\n",
              "    // Cache the last promise value to make it available to the next\n",
              "    // step of the generator.\n",
              "    outputElement.lastPromiseValue = value;\n",
              "    return next.value.response;\n",
              "  });\n",
              "}\n",
              "\n",
              "/**\n",
              " * Generator function which is called between each async step of the upload\n",
              " * process.\n",
              " * @param {string} inputId Element ID of the input file picker element.\n",
              " * @param {string} outputId Element ID of the output display.\n",
              " * @return {!Iterable<!Object>} Iterable of next steps.\n",
              " */\n",
              "function* uploadFilesStep(inputId, outputId) {\n",
              "  const inputElement = document.getElementById(inputId);\n",
              "  inputElement.disabled = false;\n",
              "\n",
              "  const outputElement = document.getElementById(outputId);\n",
              "  outputElement.innerHTML = '';\n",
              "\n",
              "  const pickedPromise = new Promise((resolve) => {\n",
              "    inputElement.addEventListener('change', (e) => {\n",
              "      resolve(e.target.files);\n",
              "    });\n",
              "  });\n",
              "\n",
              "  const cancel = document.createElement('button');\n",
              "  inputElement.parentElement.appendChild(cancel);\n",
              "  cancel.textContent = 'Cancel upload';\n",
              "  const cancelPromise = new Promise((resolve) => {\n",
              "    cancel.onclick = () => {\n",
              "      resolve(null);\n",
              "    };\n",
              "  });\n",
              "\n",
              "  // Wait for the user to pick the files.\n",
              "  const files = yield {\n",
              "    promise: Promise.race([pickedPromise, cancelPromise]),\n",
              "    response: {\n",
              "      action: 'starting',\n",
              "    }\n",
              "  };\n",
              "\n",
              "  cancel.remove();\n",
              "\n",
              "  // Disable the input element since further picks are not allowed.\n",
              "  inputElement.disabled = true;\n",
              "\n",
              "  if (!files) {\n",
              "    return {\n",
              "      response: {\n",
              "        action: 'complete',\n",
              "      }\n",
              "    };\n",
              "  }\n",
              "\n",
              "  for (const file of files) {\n",
              "    const li = document.createElement('li');\n",
              "    li.append(span(file.name, {fontWeight: 'bold'}));\n",
              "    li.append(span(\n",
              "        `(${file.type || 'n/a'}) - ${file.size} bytes, ` +\n",
              "        `last modified: ${\n",
              "            file.lastModifiedDate ? file.lastModifiedDate.toLocaleDateString() :\n",
              "                                    'n/a'} - `));\n",
              "    const percent = span('0% done');\n",
              "    li.appendChild(percent);\n",
              "\n",
              "    outputElement.appendChild(li);\n",
              "\n",
              "    const fileDataPromise = new Promise((resolve) => {\n",
              "      const reader = new FileReader();\n",
              "      reader.onload = (e) => {\n",
              "        resolve(e.target.result);\n",
              "      };\n",
              "      reader.readAsArrayBuffer(file);\n",
              "    });\n",
              "    // Wait for the data to be ready.\n",
              "    let fileData = yield {\n",
              "      promise: fileDataPromise,\n",
              "      response: {\n",
              "        action: 'continue',\n",
              "      }\n",
              "    };\n",
              "\n",
              "    // Use a chunked sending to avoid message size limits. See b/62115660.\n",
              "    let position = 0;\n",
              "    do {\n",
              "      const length = Math.min(fileData.byteLength - position, MAX_PAYLOAD_SIZE);\n",
              "      const chunk = new Uint8Array(fileData, position, length);\n",
              "      position += length;\n",
              "\n",
              "      const base64 = btoa(String.fromCharCode.apply(null, chunk));\n",
              "      yield {\n",
              "        response: {\n",
              "          action: 'append',\n",
              "          file: file.name,\n",
              "          data: base64,\n",
              "        },\n",
              "      };\n",
              "\n",
              "      let percentDone = fileData.byteLength === 0 ?\n",
              "          100 :\n",
              "          Math.round((position / fileData.byteLength) * 100);\n",
              "      percent.textContent = `${percentDone}% done`;\n",
              "\n",
              "    } while (position < fileData.byteLength);\n",
              "  }\n",
              "\n",
              "  // All done.\n",
              "  yield {\n",
              "    response: {\n",
              "      action: 'complete',\n",
              "    }\n",
              "  };\n",
              "}\n",
              "\n",
              "scope.google = scope.google || {};\n",
              "scope.google.colab = scope.google.colab || {};\n",
              "scope.google.colab._files = {\n",
              "  _uploadFiles,\n",
              "  _uploadFilesContinue,\n",
              "};\n",
              "})(self);\n",
              "</script> "
            ]
          },
          "metadata": {}
        },
        {
          "output_type": "stream",
          "name": "stdout",
          "text": [
            "Saving intent_examples.csv to intent_examples (1).csv\n"
          ]
        }
      ]
    },
    {
      "cell_type": "code",
      "source": [
        "import pandas as pd\n",
        "\n",
        "df = pd.read_csv(\"intent_examples.csv\")\n",
        "print(df.head())\n"
      ],
      "metadata": {
        "colab": {
          "base_uri": "https://localhost:8080/"
        },
        "id": "2hPsd14ofHWy",
        "outputId": "19ec09be-20e8-483a-ea77-62cae767271c"
      },
      "execution_count": null,
      "outputs": [
        {
          "output_type": "stream",
          "name": "stdout",
          "text": [
            "                                  text            label\n",
            "0           My friend is not breathing    not_breathing\n",
            "1  There's too much blood from his leg  severe_bleeding\n",
            "2      She's choking and can't breathe    choking_adult\n",
            "3                I burnt my hand badly             burn\n",
            "4      I have a small cut on my finger        minor_cut\n"
          ]
        }
      ]
    },
    {
      "cell_type": "code",
      "source": [
        "df = pd.read_csv(\"intent_examples.csv\")\n",
        "print(df['label'].value_counts())\n"
      ],
      "metadata": {
        "colab": {
          "base_uri": "https://localhost:8080/"
        },
        "id": "olbenCJUfNrS",
        "outputId": "a84e74a4-7ac2-4e9f-8871-3fa5c1a3b52a"
      },
      "execution_count": null,
      "outputs": [
        {
          "output_type": "stream",
          "name": "stdout",
          "text": [
            "label\n",
            "not_breathing      1\n",
            "severe_bleeding    1\n",
            "choking_adult      1\n",
            "burn               1\n",
            "minor_cut          1\n",
            "unknown            1\n",
            "Name: count, dtype: int64\n"
          ]
        }
      ]
    },
    {
      "cell_type": "code",
      "source": [
        "from google.colab import files\n",
        "uploaded = files.upload()\n"
      ],
      "metadata": {
        "colab": {
          "base_uri": "https://localhost:8080/",
          "height": 73
        },
        "id": "WCygOTuHfZS7",
        "outputId": "50aea63f-81ea-4ce5-938d-48ff57d8eaa1"
      },
      "execution_count": null,
      "outputs": [
        {
          "output_type": "display_data",
          "data": {
            "text/plain": [
              "<IPython.core.display.HTML object>"
            ],
            "text/html": [
              "\n",
              "     <input type=\"file\" id=\"files-e3654fb3-078f-45ce-aee3-1d30cb9a9a23\" name=\"files[]\" multiple disabled\n",
              "        style=\"border:none\" />\n",
              "     <output id=\"result-e3654fb3-078f-45ce-aee3-1d30cb9a9a23\">\n",
              "      Upload widget is only available when the cell has been executed in the\n",
              "      current browser session. Please rerun this cell to enable.\n",
              "      </output>\n",
              "      <script>// Copyright 2017 Google LLC\n",
              "//\n",
              "// Licensed under the Apache License, Version 2.0 (the \"License\");\n",
              "// you may not use this file except in compliance with the License.\n",
              "// You may obtain a copy of the License at\n",
              "//\n",
              "//      http://www.apache.org/licenses/LICENSE-2.0\n",
              "//\n",
              "// Unless required by applicable law or agreed to in writing, software\n",
              "// distributed under the License is distributed on an \"AS IS\" BASIS,\n",
              "// WITHOUT WARRANTIES OR CONDITIONS OF ANY KIND, either express or implied.\n",
              "// See the License for the specific language governing permissions and\n",
              "// limitations under the License.\n",
              "\n",
              "/**\n",
              " * @fileoverview Helpers for google.colab Python module.\n",
              " */\n",
              "(function(scope) {\n",
              "function span(text, styleAttributes = {}) {\n",
              "  const element = document.createElement('span');\n",
              "  element.textContent = text;\n",
              "  for (const key of Object.keys(styleAttributes)) {\n",
              "    element.style[key] = styleAttributes[key];\n",
              "  }\n",
              "  return element;\n",
              "}\n",
              "\n",
              "// Max number of bytes which will be uploaded at a time.\n",
              "const MAX_PAYLOAD_SIZE = 100 * 1024;\n",
              "\n",
              "function _uploadFiles(inputId, outputId) {\n",
              "  const steps = uploadFilesStep(inputId, outputId);\n",
              "  const outputElement = document.getElementById(outputId);\n",
              "  // Cache steps on the outputElement to make it available for the next call\n",
              "  // to uploadFilesContinue from Python.\n",
              "  outputElement.steps = steps;\n",
              "\n",
              "  return _uploadFilesContinue(outputId);\n",
              "}\n",
              "\n",
              "// This is roughly an async generator (not supported in the browser yet),\n",
              "// where there are multiple asynchronous steps and the Python side is going\n",
              "// to poll for completion of each step.\n",
              "// This uses a Promise to block the python side on completion of each step,\n",
              "// then passes the result of the previous step as the input to the next step.\n",
              "function _uploadFilesContinue(outputId) {\n",
              "  const outputElement = document.getElementById(outputId);\n",
              "  const steps = outputElement.steps;\n",
              "\n",
              "  const next = steps.next(outputElement.lastPromiseValue);\n",
              "  return Promise.resolve(next.value.promise).then((value) => {\n",
              "    // Cache the last promise value to make it available to the next\n",
              "    // step of the generator.\n",
              "    outputElement.lastPromiseValue = value;\n",
              "    return next.value.response;\n",
              "  });\n",
              "}\n",
              "\n",
              "/**\n",
              " * Generator function which is called between each async step of the upload\n",
              " * process.\n",
              " * @param {string} inputId Element ID of the input file picker element.\n",
              " * @param {string} outputId Element ID of the output display.\n",
              " * @return {!Iterable<!Object>} Iterable of next steps.\n",
              " */\n",
              "function* uploadFilesStep(inputId, outputId) {\n",
              "  const inputElement = document.getElementById(inputId);\n",
              "  inputElement.disabled = false;\n",
              "\n",
              "  const outputElement = document.getElementById(outputId);\n",
              "  outputElement.innerHTML = '';\n",
              "\n",
              "  const pickedPromise = new Promise((resolve) => {\n",
              "    inputElement.addEventListener('change', (e) => {\n",
              "      resolve(e.target.files);\n",
              "    });\n",
              "  });\n",
              "\n",
              "  const cancel = document.createElement('button');\n",
              "  inputElement.parentElement.appendChild(cancel);\n",
              "  cancel.textContent = 'Cancel upload';\n",
              "  const cancelPromise = new Promise((resolve) => {\n",
              "    cancel.onclick = () => {\n",
              "      resolve(null);\n",
              "    };\n",
              "  });\n",
              "\n",
              "  // Wait for the user to pick the files.\n",
              "  const files = yield {\n",
              "    promise: Promise.race([pickedPromise, cancelPromise]),\n",
              "    response: {\n",
              "      action: 'starting',\n",
              "    }\n",
              "  };\n",
              "\n",
              "  cancel.remove();\n",
              "\n",
              "  // Disable the input element since further picks are not allowed.\n",
              "  inputElement.disabled = true;\n",
              "\n",
              "  if (!files) {\n",
              "    return {\n",
              "      response: {\n",
              "        action: 'complete',\n",
              "      }\n",
              "    };\n",
              "  }\n",
              "\n",
              "  for (const file of files) {\n",
              "    const li = document.createElement('li');\n",
              "    li.append(span(file.name, {fontWeight: 'bold'}));\n",
              "    li.append(span(\n",
              "        `(${file.type || 'n/a'}) - ${file.size} bytes, ` +\n",
              "        `last modified: ${\n",
              "            file.lastModifiedDate ? file.lastModifiedDate.toLocaleDateString() :\n",
              "                                    'n/a'} - `));\n",
              "    const percent = span('0% done');\n",
              "    li.appendChild(percent);\n",
              "\n",
              "    outputElement.appendChild(li);\n",
              "\n",
              "    const fileDataPromise = new Promise((resolve) => {\n",
              "      const reader = new FileReader();\n",
              "      reader.onload = (e) => {\n",
              "        resolve(e.target.result);\n",
              "      };\n",
              "      reader.readAsArrayBuffer(file);\n",
              "    });\n",
              "    // Wait for the data to be ready.\n",
              "    let fileData = yield {\n",
              "      promise: fileDataPromise,\n",
              "      response: {\n",
              "        action: 'continue',\n",
              "      }\n",
              "    };\n",
              "\n",
              "    // Use a chunked sending to avoid message size limits. See b/62115660.\n",
              "    let position = 0;\n",
              "    do {\n",
              "      const length = Math.min(fileData.byteLength - position, MAX_PAYLOAD_SIZE);\n",
              "      const chunk = new Uint8Array(fileData, position, length);\n",
              "      position += length;\n",
              "\n",
              "      const base64 = btoa(String.fromCharCode.apply(null, chunk));\n",
              "      yield {\n",
              "        response: {\n",
              "          action: 'append',\n",
              "          file: file.name,\n",
              "          data: base64,\n",
              "        },\n",
              "      };\n",
              "\n",
              "      let percentDone = fileData.byteLength === 0 ?\n",
              "          100 :\n",
              "          Math.round((position / fileData.byteLength) * 100);\n",
              "      percent.textContent = `${percentDone}% done`;\n",
              "\n",
              "    } while (position < fileData.byteLength);\n",
              "  }\n",
              "\n",
              "  // All done.\n",
              "  yield {\n",
              "    response: {\n",
              "      action: 'complete',\n",
              "    }\n",
              "  };\n",
              "}\n",
              "\n",
              "scope.google = scope.google || {};\n",
              "scope.google.colab = scope.google.colab || {};\n",
              "scope.google.colab._files = {\n",
              "  _uploadFiles,\n",
              "  _uploadFilesContinue,\n",
              "};\n",
              "})(self);\n",
              "</script> "
            ]
          },
          "metadata": {}
        },
        {
          "output_type": "stream",
          "name": "stdout",
          "text": [
            "Saving intent_examples.csv to intent_examples (2).csv\n"
          ]
        }
      ]
    },
    {
      "cell_type": "code",
      "source": [
        "df = pd.read_csv(\"intent_examples.csv\")\n",
        "print(df['label'].value_counts())\n"
      ],
      "metadata": {
        "colab": {
          "base_uri": "https://localhost:8080/"
        },
        "id": "Jv3E3VN2guQ1",
        "outputId": "3260a735-8a4b-42cf-a911-c139900e83df"
      },
      "execution_count": null,
      "outputs": [
        {
          "output_type": "stream",
          "name": "stdout",
          "text": [
            "label\n",
            "not_breathing      1\n",
            "severe_bleeding    1\n",
            "choking_adult      1\n",
            "burn               1\n",
            "minor_cut          1\n",
            "unknown            1\n",
            "Name: count, dtype: int64\n"
          ]
        }
      ]
    },
    {
      "cell_type": "code",
      "source": [
        "import pandas as pd\n",
        "\n",
        "data = [\n",
        "    # Not breathing\n",
        "    (\"My friend is not breathing\", \"not_breathing\"),\n",
        "    (\"He has stopped breathing\", \"not_breathing\"),\n",
        "    (\"She is not taking breaths\", \"not_breathing\"),\n",
        "    (\"Patient is unconscious and not breathing\", \"not_breathing\"),\n",
        "    (\"He collapsed and isn't breathing\", \"not_breathing\"),\n",
        "\n",
        "    # Severe bleeding\n",
        "    (\"There's too much blood from his leg\", \"severe_bleeding\"),\n",
        "    (\"She is bleeding a lot\", \"severe_bleeding\"),\n",
        "    (\"Blood is coming out nonstop\", \"severe_bleeding\"),\n",
        "    (\"His hand is cut deeply and bleeding heavily\", \"severe_bleeding\"),\n",
        "    (\"Arterial bleeding from his arm\", \"severe_bleeding\"),\n",
        "\n",
        "    # Choking adult\n",
        "    (\"She's choking and can't breathe\", \"choking_adult\"),\n",
        "    (\"My friend is choking on food\", \"choking_adult\"),\n",
        "    (\"He's choking badly\", \"choking_adult\"),\n",
        "    (\"Something is stuck in her throat\", \"choking_adult\"),\n",
        "    (\"Can't breathe because of choking\", \"choking_adult\"),\n",
        "\n",
        "    # Choking child\n",
        "    (\"My baby is choking\", \"choking_child\"),\n",
        "    (\"Child is choking on a toy\", \"choking_child\"),\n",
        "    (\"My kid can't breathe, he's choking\", \"choking_child\"),\n",
        "    (\"Toddler choking on food\", \"choking_child\"),\n",
        "    (\"Small child choking badly\", \"choking_child\"),\n",
        "\n",
        "    # Burn\n",
        "    (\"I burnt my hand badly\", \"burn\"),\n",
        "    (\"Fire burned his arm\", \"burn\"),\n",
        "    (\"Hot water burn on her leg\", \"burn\"),\n",
        "    (\"Severe burn injury\", \"burn\"),\n",
        "    (\"Skin burned by oil\", \"burn\"),\n",
        "\n",
        "    # Minor cut\n",
        "    (\"I have a small cut on my finger\", \"minor_cut\"),\n",
        "    (\"Paper cut on my hand\", \"minor_cut\"),\n",
        "    (\"Got a tiny cut\", \"minor_cut\"),\n",
        "    (\"A scratch on my skin\", \"minor_cut\"),\n",
        "    (\"Just a small wound\", \"minor_cut\"),\n",
        "\n",
        "    # Unconscious\n",
        "    (\"She fainted suddenly\", \"unconscious\"),\n",
        "    (\"My friend fainted and is not waking up\", \"unconscious\"),\n",
        "    (\"Someone collapsed unconscious\", \"unconscious\"),\n",
        "    (\"He is not responding\", \"unconscious\"),\n",
        "    (\"She passed out\", \"unconscious\"),\n",
        "\n",
        "    # Snake bite\n",
        "    (\"He was bitten by a snake\", \"snake_bite\"),\n",
        "    (\"A cobra bit my friend\", \"snake_bite\"),\n",
        "    (\"There's a snake bite on his leg\", \"snake_bite\"),\n",
        "    (\"He is swelling after snake bite\", \"snake_bite\"),\n",
        "    (\"My friend was bitten by a poisonous snake\", \"snake_bite\"),\n",
        "\n",
        "    # Heart attack\n",
        "    (\"He has severe chest pain\", \"heart_attack\"),\n",
        "    (\"My friend is clutching his chest\", \"heart_attack\"),\n",
        "    (\"She collapsed with chest pain\", \"heart_attack\"),\n",
        "    (\"He feels pain in left arm and chest\", \"heart_attack\"),\n",
        "    (\"Looks like he is having a heart attack\", \"heart_attack\"),\n",
        "\n",
        "    # Fracture\n",
        "    (\"He broke his leg\", \"fracture\"),\n",
        "    (\"Her arm is fractured\", \"fracture\"),\n",
        "    (\"I think his hand bone is broken\", \"fracture\"),\n",
        "    (\"She has a broken wrist\", \"fracture\"),\n",
        "    (\"There's a fracture in his ankle\", \"fracture\"),\n",
        "\n",
        "    # Allergic reaction\n",
        "    (\"He is having difficulty breathing after eating\", \"allergic_reaction\"),\n",
        "    (\"Swelling on face after food\", \"allergic_reaction\"),\n",
        "    (\"She has severe allergic reaction\", \"allergic_reaction\"),\n",
        "    (\"He is in shock due to allergy\", \"allergic_reaction\"),\n",
        "    (\"His lips are swelling after insect bite\", \"allergic_reaction\"),\n",
        "\n",
        "    # Heatstroke\n",
        "    (\"He fainted due to hot weather\", \"heatstroke\"),\n",
        "    (\"She collapsed under the sun\", \"heatstroke\"),\n",
        "    (\"High fever and dehydration\", \"heatstroke\"),\n",
        "    (\"Heatstroke symptoms visible\", \"heatstroke\"),\n",
        "    (\"Excessive sweating and dizziness\", \"heatstroke\"),\n",
        "\n",
        "    # Unknown\n",
        "    (\"I don't know what to do\", \"unknown\"),\n",
        "    (\"I'm confused, please help\", \"unknown\"),\n",
        "    (\"I need some advice\", \"unknown\"),\n",
        "    (\"Don't know what first aid to give\", \"unknown\"),\n",
        "    (\"Not sure what happened\", \"unknown\"),\n",
        "]\n",
        "\n",
        "df = pd.DataFrame(data, columns=[\"text\", \"label\"])\n",
        "print(df['label'].value_counts())\n"
      ],
      "metadata": {
        "colab": {
          "base_uri": "https://localhost:8080/"
        },
        "id": "ms-n5PU6gyxs",
        "outputId": "508ffcbd-f2da-4c1d-f9fa-356e19faa44d"
      },
      "execution_count": null,
      "outputs": [
        {
          "output_type": "stream",
          "name": "stdout",
          "text": [
            "label\n",
            "not_breathing        5\n",
            "severe_bleeding      5\n",
            "choking_adult        5\n",
            "choking_child        5\n",
            "burn                 5\n",
            "minor_cut            5\n",
            "unconscious          5\n",
            "snake_bite           5\n",
            "heart_attack         5\n",
            "fracture             5\n",
            "allergic_reaction    5\n",
            "heatstroke           5\n",
            "unknown              5\n",
            "Name: count, dtype: int64\n"
          ]
        }
      ]
    },
    {
      "cell_type": "code",
      "source": [
        "from sklearn.model_selection import train_test_split\n",
        "from sklearn.feature_extraction.text import TfidfVectorizer\n",
        "from sklearn.linear_model import LogisticRegression\n",
        "from sklearn.pipeline import Pipeline\n",
        "from sklearn.metrics import classification_report\n",
        "\n",
        "# Split dataset into training and testing\n",
        "X_train, X_test, y_train, y_test = train_test_split(\n",
        "    df['text'], df['label'], test_size=0.2, random_state=42\n",
        ")\n",
        "\n",
        "# Build a pipeline: TF-IDF + Logistic Regression\n",
        "model = Pipeline([\n",
        "    ('tfidf', TfidfVectorizer()),\n",
        "    ('clf', LogisticRegression(max_iter=1000))\n",
        "])\n",
        "\n",
        "# Train the model\n",
        "model.fit(X_train, y_train)\n",
        "\n",
        "# Test performance\n",
        "y_pred = model.predict(X_test)\n",
        "print(classification_report(y_test, y_pred))\n"
      ],
      "metadata": {
        "colab": {
          "base_uri": "https://localhost:8080/"
        },
        "id": "UkyL4nQchBiL",
        "outputId": "18217593-53f9-44b8-ebb6-77ca2e81af68"
      },
      "execution_count": null,
      "outputs": [
        {
          "output_type": "stream",
          "name": "stdout",
          "text": [
            "                   precision    recall  f1-score   support\n",
            "\n",
            "allergic_reaction       0.00      0.00      0.00         1\n",
            "             burn       0.00      0.00      0.00         0\n",
            "    choking_adult       0.00      0.00      0.00         1\n",
            "    choking_child       0.50      1.00      0.67         1\n",
            "         fracture       0.00      0.00      0.00         1\n",
            "     heart_attack       0.00      0.00      0.00         1\n",
            "       heatstroke       0.00      0.00      0.00         0\n",
            "    not_breathing       0.33      1.00      0.50         1\n",
            "  severe_bleeding       0.00      0.00      0.00         2\n",
            "       snake_bite       0.00      0.00      0.00         0\n",
            "      unconscious       0.00      0.00      0.00         2\n",
            "          unknown       0.00      0.00      0.00         3\n",
            "\n",
            "         accuracy                           0.15        13\n",
            "        macro avg       0.07      0.17      0.10        13\n",
            "     weighted avg       0.06      0.15      0.09        13\n",
            "\n"
          ]
        },
        {
          "output_type": "stream",
          "name": "stderr",
          "text": [
            "/usr/local/lib/python3.12/dist-packages/sklearn/metrics/_classification.py:1565: UndefinedMetricWarning: Precision is ill-defined and being set to 0.0 in labels with no predicted samples. Use `zero_division` parameter to control this behavior.\n",
            "  _warn_prf(average, modifier, f\"{metric.capitalize()} is\", len(result))\n",
            "/usr/local/lib/python3.12/dist-packages/sklearn/metrics/_classification.py:1565: UndefinedMetricWarning: Recall is ill-defined and being set to 0.0 in labels with no true samples. Use `zero_division` parameter to control this behavior.\n",
            "  _warn_prf(average, modifier, f\"{metric.capitalize()} is\", len(result))\n",
            "/usr/local/lib/python3.12/dist-packages/sklearn/metrics/_classification.py:1565: UndefinedMetricWarning: Precision is ill-defined and being set to 0.0 in labels with no predicted samples. Use `zero_division` parameter to control this behavior.\n",
            "  _warn_prf(average, modifier, f\"{metric.capitalize()} is\", len(result))\n",
            "/usr/local/lib/python3.12/dist-packages/sklearn/metrics/_classification.py:1565: UndefinedMetricWarning: Recall is ill-defined and being set to 0.0 in labels with no true samples. Use `zero_division` parameter to control this behavior.\n",
            "  _warn_prf(average, modifier, f\"{metric.capitalize()} is\", len(result))\n",
            "/usr/local/lib/python3.12/dist-packages/sklearn/metrics/_classification.py:1565: UndefinedMetricWarning: Precision is ill-defined and being set to 0.0 in labels with no predicted samples. Use `zero_division` parameter to control this behavior.\n",
            "  _warn_prf(average, modifier, f\"{metric.capitalize()} is\", len(result))\n",
            "/usr/local/lib/python3.12/dist-packages/sklearn/metrics/_classification.py:1565: UndefinedMetricWarning: Recall is ill-defined and being set to 0.0 in labels with no true samples. Use `zero_division` parameter to control this behavior.\n",
            "  _warn_prf(average, modifier, f\"{metric.capitalize()} is\", len(result))\n"
          ]
        }
      ]
    },
    {
      "cell_type": "code",
      "source": [
        "test_texts = [\n",
        "    \"He is bleeding a lot from his hand\",\n",
        "    \"My friend is not breathing\",\n",
        "    \"She has chest pain and fainted\",\n",
        "    \"A snake bit his leg\",\n",
        "    \"He collapsed in the sun\"\n",
        "]\n",
        "\n",
        "print(model.predict(test_texts))\n"
      ],
      "metadata": {
        "colab": {
          "base_uri": "https://localhost:8080/"
        },
        "id": "zoJmXCdPhKkj",
        "outputId": "fa2d9d2b-aaa3-44ae-be51-e09a65d84869"
      },
      "execution_count": null,
      "outputs": [
        {
          "output_type": "stream",
          "name": "stdout",
          "text": [
            "['severe_bleeding' 'not_breathing' 'heart_attack' 'snake_bite'\n",
            " 'heatstroke']\n"
          ]
        }
      ]
    },
    {
      "cell_type": "code",
      "source": [
        "import joblib\n",
        "\n",
        "# Save model\n",
        "joblib.dump(model, \"first_aid_model.pkl\")\n",
        "print(\"Model saved as first_aid_model.pkl\")\n"
      ],
      "metadata": {
        "colab": {
          "base_uri": "https://localhost:8080/"
        },
        "id": "MGraWhZ9hOTL",
        "outputId": "9fe18024-c4af-4076-9af9-ff9731fd2eea"
      },
      "execution_count": null,
      "outputs": [
        {
          "output_type": "stream",
          "name": "stdout",
          "text": [
            "Model saved as first_aid_model.pkl\n"
          ]
        }
      ]
    },
    {
      "cell_type": "code",
      "source": [
        "# Load model\n",
        "loaded_model = joblib.load(\"first_aid_model.pkl\")\n",
        "\n",
        "# Test again\n",
        "print(loaded_model.predict([\"My friend is choking\"]))\n"
      ],
      "metadata": {
        "colab": {
          "base_uri": "https://localhost:8080/"
        },
        "id": "w8C2A0YfiJ-Q",
        "outputId": "60316a29-3ee7-4b52-ed7a-9ae33d26658c"
      },
      "execution_count": null,
      "outputs": [
        {
          "output_type": "stream",
          "name": "stdout",
          "text": [
            "['choking_child']\n"
          ]
        }
      ]
    },
    {
      "cell_type": "code",
      "source": [
        "# 1. Save first aid instructions\n",
        "first_aid_instructions = {\n",
        "    \"not_breathing\": \"Call emergency services immediately (e.g. 108 in India). Begin CPR: 30 chest compressions followed by 2 rescue breaths. Continue until help arrives.\",\n",
        "    \"severe_bleeding\": \"Apply firm pressure to the wound with a clean cloth. Keep the injured part elevated. Do not remove objects stuck in the wound.\",\n",
        "    \"choking_adult\": \"Ask the person to cough. If they can’t, perform 5 back blows followed by 5 abdominal thrusts (Heimlich maneuver).\",\n",
        "    \"choking_child\": \"Give 5 back blows between shoulder blades. If not effective, perform chest thrusts. Do not use Heimlich on infants under 1 year.\",\n",
        "    \"burn\": \"Cool the burn under running cool water for 10–20 minutes. Do not apply ice, butter, or toothpaste. Cover loosely with a clean cloth.\",\n",
        "    \"minor_cut\": \"Clean the cut with running water. Apply antiseptic and cover with a plaster if needed.\",\n",
        "    \"unconscious\": \"Check breathing and pulse. Place the person in recovery position if breathing. If not, start CPR and call for help.\",\n",
        "    \"snake_bite\": \"Keep the person calm and still. Immobilize the bitten limb. Do not cut, suck, or apply ice. Get medical help immediately.\",\n",
        "    \"heart_attack\": \"Call emergency services. Keep the person seated and calm. If available, give aspirin to chew (unless allergic). Begin CPR if unconscious.\",\n",
        "    \"fracture\": \"Immobilize the injured part using a splint or cloth. Do not move the limb unnecessarily. Seek medical help.\",\n",
        "    \"allergic_reaction\": \"If severe (anaphylaxis), use an epinephrine auto-injector (if available). Call emergency services immediately. Keep airway clear.\",\n",
        "    \"heatstroke\": \"Move person to a cool place. Remove excess clothing. Cool with wet cloths or fanning. Do not give very cold water. Call emergency help.\",\n",
        "    \"unknown\": \"Stay calm. Try to describe the symptoms clearly. Seek medical help if condition seems serious.\"\n",
        "}\n",
        "\n",
        "# 2. Function to return advice\n",
        "def get_first_aid_advice(text):\n",
        "    predicted_label = model.predict([text])[0]\n",
        "    advice = first_aid_instructions.get(predicted_label, \"No advice available.\")\n",
        "    return predicted_label, advice\n",
        "\n",
        "# 3. Test\n",
        "label, advice = get_first_aid_advice(\"He has severe chest pain\")\n",
        "print(\"Detected Condition:\", label)\n",
        "print(\"First Aid Steps:\", advice)\n",
        "\n",
        "# 4. Save model\n",
        "import joblib\n",
        "joblib.dump(model, \"first_aid_model.pkl\")\n",
        "print(\"Model saved as first_aid_model.pkl\")\n"
      ],
      "metadata": {
        "colab": {
          "base_uri": "https://localhost:8080/"
        },
        "id": "8JUr8RXriM-Y",
        "outputId": "3bbe9174-73ed-4f4b-e446-0576d5513ea6"
      },
      "execution_count": null,
      "outputs": [
        {
          "output_type": "stream",
          "name": "stdout",
          "text": [
            "Detected Condition: heart_attack\n",
            "First Aid Steps: Call emergency services. Keep the person seated and calm. If available, give aspirin to chew (unless allergic). Begin CPR if unconscious.\n",
            "Model saved as first_aid_model.pkl\n"
          ]
        }
      ]
    },
    {
      "cell_type": "code",
      "source": [
        "import joblib\n",
        "\n",
        "# Load the saved model\n",
        "model = joblib.load(\"first_aid_model.pkl\")\n",
        "\n",
        "# Same first aid dictionary\n",
        "first_aid_instructions = {\n",
        "    \"not_breathing\": \"Call emergency help immediately. Start CPR until help arrives.\",\n",
        "    \"severe_bleeding\": \"Apply direct pressure to the wound. Keep the injured area elevated.\",\n",
        "    \"choking_adult\": \"Perform Heimlich maneuver. If unconscious, start CPR.\",\n",
        "    \"choking_child\": \"Give back blows and abdominal thrusts. Call emergency services.\",\n",
        "    \"burn\": \"Cool the burn under running water. Do not apply ice or butter.\",\n",
        "    \"minor_cut\": \"Wash the cut with clean water. Apply antiseptic and bandage.\",\n",
        "    \"unconscious\": \"Check breathing and pulse. Place in recovery position. Call emergency services.\",\n",
        "    \"snake_bite\": \"Keep the person calm and still. Do not suck the venom. Get medical help immediately.\",\n",
        "    \"heart_attack\": \"Call emergency services. Keep the person seated and calm. If available, give aspirin to chew (unless allergic). Begin CPR if unconscious.\",\n",
        "    \"fracture\": \"Immobilize the injured area. Do not move the broken bone. Apply ice packs around the injury.\",\n",
        "    \"allergic_reaction\": \"Give antihistamine if available. Use epinephrine auto-injector if prescribed. Call emergency services.\",\n",
        "    \"heatstroke\": \"Move the person to a cool place. Give cool water. Apply wet cloths to lower body temperature.\",\n",
        "    \"unknown\": \"Condition not recognized. Please call emergency services.\"\n",
        "}\n",
        "\n",
        "# Test again with a new input\n",
        "new_input = [\"My father has chest pain and is sweating heavily\"]\n",
        "\n",
        "predicted_label = model.predict(new_input)[0]\n",
        "print(\"Detected Condition:\", predicted_label)\n",
        "print(\"First Aid Steps:\", first_aid_instructions[predicted_label])\n"
      ],
      "metadata": {
        "colab": {
          "base_uri": "https://localhost:8080/"
        },
        "id": "T62tTSK2iTWJ",
        "outputId": "94e27b50-94d5-41ab-c75a-3b28690eeb5d"
      },
      "execution_count": null,
      "outputs": [
        {
          "output_type": "stream",
          "name": "stdout",
          "text": [
            "Detected Condition: heart_attack\n",
            "First Aid Steps: Call emergency services. Keep the person seated and calm. If available, give aspirin to chew (unless allergic). Begin CPR if unconscious.\n"
          ]
        }
      ]
    },
    {
      "cell_type": "code",
      "source": [
        "import joblib\n",
        "joblib.dump(model, \"first_aid_model.pkl\")\n"
      ],
      "metadata": {
        "colab": {
          "base_uri": "https://localhost:8080/"
        },
        "id": "AluhjugiikLC",
        "outputId": "245ea253-7454-4f2a-9691-b1d0a54447cb"
      },
      "execution_count": null,
      "outputs": [
        {
          "output_type": "execute_result",
          "data": {
            "text/plain": [
              "['first_aid_model.pkl']"
            ]
          },
          "metadata": {},
          "execution_count": 16
        }
      ]
    },
    {
      "cell_type": "code",
      "source": [
        "from google.colab import drive\n",
        "drive.mount('/content/drive')\n",
        "joblib.dump(model, \"/content/drive/MyDrive/first_aid_model.pkl\")\n"
      ],
      "metadata": {
        "colab": {
          "base_uri": "https://localhost:8080/"
        },
        "id": "TKvjqGXVjT-w",
        "outputId": "1ed5db57-165e-4b5e-efd0-31974261688c"
      },
      "execution_count": null,
      "outputs": [
        {
          "output_type": "stream",
          "name": "stdout",
          "text": [
            "Mounted at /content/drive\n"
          ]
        },
        {
          "output_type": "execute_result",
          "data": {
            "text/plain": [
              "['/content/drive/MyDrive/first_aid_model.pkl']"
            ]
          },
          "metadata": {},
          "execution_count": 17
        }
      ]
    },
    {
      "cell_type": "code",
      "source": [],
      "metadata": {
        "id": "TbHcuzLwjW2M"
      },
      "execution_count": null,
      "outputs": []
    }
  ]
}